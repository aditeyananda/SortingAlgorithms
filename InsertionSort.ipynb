{
  "nbformat": 4,
  "nbformat_minor": 0,
  "metadata": {
    "colab": {
      "name": "Untitled0.ipynb",
      "provenance": [],
      "collapsed_sections": [],
      "authorship_tag": "ABX9TyNOdN5kLpLdF6j4ykRsJVNo",
      "include_colab_link": true
    },
    "kernelspec": {
      "name": "python3",
      "display_name": "Python 3"
    },
    "language_info": {
      "name": "python"
    }
  },
  "cells": [
    {
      "cell_type": "markdown",
      "metadata": {
        "id": "view-in-github",
        "colab_type": "text"
      },
      "source": [
        "<a href=\"https://colab.research.google.com/github/aditeyananda/SortingAlgorithms/blob/main/InsertionSort.ipynb\" target=\"_parent\"><img src=\"https://colab.research.google.com/assets/colab-badge.svg\" alt=\"Open In Colab\"/></a>"
      ]
    },
    {
      "cell_type": "code",
      "metadata": {
        "colab": {
          "base_uri": "https://localhost:8080/"
        },
        "id": "UPivhWzCWVqt",
        "outputId": "c25d875a-046e-4d23-f999-b98445666b79"
      },
      "source": [
        "#Function to do Insertion Sort\n",
        "def InsertionSort(arr):\n",
        "  #we start with index 1 as we consider element in index 0 to be already sorted\n",
        "  for i in range(1, len(arr)):\n",
        "    #we store value of arr[i] in a temp variable for each iteration\n",
        "    temp = arr[i]\n",
        "    #j will be decrementing in each iteration and hence comparing all values on the left to the 'temp'\n",
        "    #thus we initialise it as i-1\n",
        "    j = i-1\n",
        "    #we move to the left till either j gets to zero index OR we find an element smaller than 'temp'\n",
        "    while j>=0 and arr[j]>temp:\n",
        "      arr[j+1] = arr[j]\n",
        "      j = j-1\n",
        "    arr[j+1] = temp\n",
        "\n",
        "#Driver Code\n",
        "arr = [4, 10, 1, 22, 13, 5]\n",
        "InsertionSort(arr)\n",
        "\n",
        "for i in range(len(arr)):\n",
        "  print(arr[i])"
      ],
      "execution_count": 2,
      "outputs": [
        {
          "output_type": "stream",
          "name": "stdout",
          "text": [
            "1\n",
            "4\n",
            "5\n",
            "10\n",
            "13\n",
            "22\n"
          ]
        }
      ]
    }
  ]
}