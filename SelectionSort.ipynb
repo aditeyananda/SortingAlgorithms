{
  "nbformat": 4,
  "nbformat_minor": 0,
  "metadata": {
    "colab": {
      "name": "Untitled1.ipynb",
      "provenance": [],
      "authorship_tag": "ABX9TyPjDdXOvSP6PJYyFcxmy8To",
      "include_colab_link": true
    },
    "kernelspec": {
      "name": "python3",
      "display_name": "Python 3"
    },
    "language_info": {
      "name": "python"
    }
  },
  "cells": [
    {
      "cell_type": "markdown",
      "metadata": {
        "id": "view-in-github",
        "colab_type": "text"
      },
      "source": [
        "<a href=\"https://colab.research.google.com/github/aditeyananda/SortingAlgorithms/blob/main/SelectionSort.ipynb\" target=\"_parent\"><img src=\"https://colab.research.google.com/assets/colab-badge.svg\" alt=\"Open In Colab\"/></a>"
      ]
    },
    {
      "cell_type": "code",
      "metadata": {
        "colab": {
          "base_uri": "https://localhost:8080/"
        },
        "id": "NpCQZtQUpiti",
        "outputId": "dc3b415c-19e1-48c0-ac6f-7d55bf5e95dd"
      },
      "source": [
        "#Selection Sort\n",
        "def SelectionSort(arr):\n",
        "  for i in range(len(arr)):\n",
        "    #In each iteration we assume the first element to be the smallest. As 'i' moves forward the smallest assumed number moves forward\n",
        "    min = i\n",
        "    #The smallest assumed number needs to be compared with all remaining elements on the right. Thus loop starts from 'i+1'\n",
        "    for j in range (i+1, len(arr)):\n",
        "      #if we find a number smaller than the one we assumed, we swap the two numbers. \n",
        "      #The smallest number goes to the beginning of our right array and thus to ending of left. And we move ahead and start our iterations again\n",
        "      if (arr[j]<arr[min]):\n",
        "       arr[min], arr[j]=arr[j], arr[min]\n",
        "    #Unnecessary step found in online implementations\n",
        "    #arr[i], arr[min] = arr[min], arr[i]\n",
        "\n",
        "#Driver Code\n",
        "arr = [4, 10, 1, 22, 13, 5]\n",
        "SelectionSort(arr)\n",
        "\n",
        "for i in range(len(arr)):\n",
        "  print(arr[i])"
      ],
      "execution_count": 46,
      "outputs": [
        {
          "output_type": "stream",
          "name": "stdout",
          "text": [
            "1\n",
            "4\n",
            "5\n",
            "10\n",
            "13\n",
            "22\n"
          ]
        }
      ]
    }
  ]
}